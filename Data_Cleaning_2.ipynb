{
 "cells": [
  {
   "cell_type": "markdown",
   "metadata": {},
   "source": [
    "# Import all Libraries"
   ]
  },
  {
   "cell_type": "code",
   "execution_count": 2,
   "metadata": {},
   "outputs": [],
   "source": [
    "import pandas as pd\n",
    "import re\n",
    "import math"
   ]
  },
  {
   "cell_type": "code",
   "execution_count": 3,
   "metadata": {},
   "outputs": [],
   "source": [
    "MAIN_FILE = 'MMDA_raw.csv'\n",
    "\n",
    "mmda_df = pd.read_csv(MAIN_FILE)\n"
   ]
  },
  {
   "cell_type": "code",
   "execution_count": 4,
   "metadata": {},
   "outputs": [
    {
     "data": {
      "text/html": [
       "<div>\n",
       "<style scoped>\n",
       "    .dataframe tbody tr th:only-of-type {\n",
       "        vertical-align: middle;\n",
       "    }\n",
       "\n",
       "    .dataframe tbody tr th {\n",
       "        vertical-align: top;\n",
       "    }\n",
       "\n",
       "    .dataframe thead th {\n",
       "        text-align: right;\n",
       "    }\n",
       "</style>\n",
       "<table border=\"1\" class=\"dataframe\">\n",
       "  <thead>\n",
       "    <tr style=\"text-align: right;\">\n",
       "      <th></th>\n",
       "      <th>id</th>\n",
       "      <th>created_at</th>\n",
       "      <th>full_text</th>\n",
       "      <th>in_reply_to_status_id</th>\n",
       "    </tr>\n",
       "  </thead>\n",
       "  <tbody>\n",
       "    <tr>\n",
       "      <th>0</th>\n",
       "      <td>20104552522</td>\n",
       "      <td>2010-08-02 01:53:53</td>\n",
       "      <td>MMDA traffic updates as of 9:45 am EDSA northb...</td>\n",
       "      <td>NaN</td>\n",
       "    </tr>\n",
       "    <tr>\n",
       "      <th>1</th>\n",
       "      <td>20104490122</td>\n",
       "      <td>2010-08-02 01:52:53</td>\n",
       "      <td>MMDA traffic updates as of 9:45 am EDSA northb...</td>\n",
       "      <td>NaN</td>\n",
       "    </tr>\n",
       "    <tr>\n",
       "      <th>2</th>\n",
       "      <td>20104390909</td>\n",
       "      <td>2010-08-02 01:51:18</td>\n",
       "      <td>MMDA traffic updates as of 9:45 am EDSA southb...</td>\n",
       "      <td>NaN</td>\n",
       "    </tr>\n",
       "    <tr>\n",
       "      <th>3</th>\n",
       "      <td>20104323508</td>\n",
       "      <td>2010-08-02 01:50:17</td>\n",
       "      <td>MMDA traffic updates as of 9:45 am EDSA southb...</td>\n",
       "      <td>NaN</td>\n",
       "    </tr>\n",
       "    <tr>\n",
       "      <th>4</th>\n",
       "      <td>20103470216</td>\n",
       "      <td>2010-08-02 01:35:55</td>\n",
       "      <td>Sorry for the all caps. Unintentional. Wont ha...</td>\n",
       "      <td>NaN</td>\n",
       "    </tr>\n",
       "  </tbody>\n",
       "</table>\n",
       "</div>"
      ],
      "text/plain": [
       "            id           created_at  \\\n",
       "0  20104552522  2010-08-02 01:53:53   \n",
       "1  20104490122  2010-08-02 01:52:53   \n",
       "2  20104390909  2010-08-02 01:51:18   \n",
       "3  20104323508  2010-08-02 01:50:17   \n",
       "4  20103470216  2010-08-02 01:35:55   \n",
       "\n",
       "                                           full_text  in_reply_to_status_id  \n",
       "0  MMDA traffic updates as of 9:45 am EDSA northb...                    NaN  \n",
       "1  MMDA traffic updates as of 9:45 am EDSA northb...                    NaN  \n",
       "2  MMDA traffic updates as of 9:45 am EDSA southb...                    NaN  \n",
       "3  MMDA traffic updates as of 9:45 am EDSA southb...                    NaN  \n",
       "4  Sorry for the all caps. Unintentional. Wont ha...                    NaN  "
      ]
     },
     "execution_count": 4,
     "metadata": {},
     "output_type": "execute_result"
    }
   ],
   "source": [
    "mmda_df.head()"
   ]
  },
  {
   "cell_type": "code",
   "execution_count": 5,
   "metadata": {},
   "outputs": [
    {
     "data": {
      "text/plain": [
       "(771251, 4)"
      ]
     },
     "execution_count": 5,
     "metadata": {},
     "output_type": "execute_result"
    }
   ],
   "source": [
    "mmda_df.shape"
   ]
  },
  {
   "cell_type": "code",
   "execution_count": 6,
   "metadata": {},
   "outputs": [
    {
     "name": "stdout",
     "output_type": "stream",
     "text": [
      "<class 'pandas.core.frame.DataFrame'>\n",
      "RangeIndex: 771251 entries, 0 to 771250\n",
      "Data columns (total 4 columns):\n",
      " #   Column                 Non-Null Count   Dtype  \n",
      "---  ------                 --------------   -----  \n",
      " 0   id                     771251 non-null  int64  \n",
      " 1   created_at             771251 non-null  object \n",
      " 2   full_text              771251 non-null  object \n",
      " 3   in_reply_to_status_id  578307 non-null  float64\n",
      "dtypes: float64(1), int64(1), object(2)\n",
      "memory usage: 23.5+ MB\n"
     ]
    }
   ],
   "source": [
    "mmda_df.info()"
   ]
  },
  {
   "cell_type": "code",
   "execution_count": 7,
   "metadata": {
    "tags": []
   },
   "outputs": [],
   "source": [
    "template = 'MMDA ALERT: (.*?) at (.*?) involving (.*?) as of (.*?)\\. (.*?)\\.'\n",
    "\n",
    "matches = []\n",
    "\n",
    "for x in range(len(mmda_df)):\n",
    "    try:\n",
    "        line = mmda_df['full_text'][x]\n",
    "        matches.append(re.findall(template, line)[0])\n",
    "    except:\n",
    "        m = 0"
   ]
  },
  {
   "cell_type": "code",
   "execution_count": 8,
   "metadata": {},
   "outputs": [],
   "source": [
    "test = pd.DataFrame(matches)"
   ]
  },
  {
   "cell_type": "code",
   "execution_count": 9,
   "metadata": {},
   "outputs": [
    {
     "data": {
      "text/html": [
       "<div>\n",
       "<style scoped>\n",
       "    .dataframe tbody tr th:only-of-type {\n",
       "        vertical-align: middle;\n",
       "    }\n",
       "\n",
       "    .dataframe tbody tr th {\n",
       "        vertical-align: top;\n",
       "    }\n",
       "\n",
       "    .dataframe thead th {\n",
       "        text-align: right;\n",
       "    }\n",
       "</style>\n",
       "<table border=\"1\" class=\"dataframe\">\n",
       "  <thead>\n",
       "    <tr style=\"text-align: right;\">\n",
       "      <th></th>\n",
       "      <th>0</th>\n",
       "      <th>1</th>\n",
       "      <th>2</th>\n",
       "      <th>3</th>\n",
       "      <th>4</th>\n",
       "    </tr>\n",
       "  </thead>\n",
       "  <tbody>\n",
       "    <tr>\n",
       "      <th>0</th>\n",
       "      <td>Vehicular accident</td>\n",
       "      <td>EDSA Buendia NB</td>\n",
       "      <td>bus and AUV</td>\n",
       "      <td>9:40 PM</td>\n",
       "      <td>1 lane occupied</td>\n",
       "    </tr>\n",
       "    <tr>\n",
       "      <th>1</th>\n",
       "      <td>Vehicular accident</td>\n",
       "      <td>EDSA after F/O SB</td>\n",
       "      <td>van and car</td>\n",
       "      <td>9:34 PM</td>\n",
       "      <td>1 lane occupied</td>\n",
       "    </tr>\n",
       "    <tr>\n",
       "      <th>2</th>\n",
       "      <td>Vehicular accident</td>\n",
       "      <td>C5 Katipunan CP. Garcia NB</td>\n",
       "      <td>AUV and truck</td>\n",
       "      <td>7:02 PM</td>\n",
       "      <td>1 lane occupied</td>\n",
       "    </tr>\n",
       "    <tr>\n",
       "      <th>3</th>\n",
       "      <td>Vehicular accident</td>\n",
       "      <td>EDSA Kalayaan NB</td>\n",
       "      <td>2 cars</td>\n",
       "      <td>6:35 PM</td>\n",
       "      <td>1 lane occupied</td>\n",
       "    </tr>\n",
       "    <tr>\n",
       "      <th>4</th>\n",
       "      <td>Vehicular accident</td>\n",
       "      <td>EDSA vv. Soliven SB</td>\n",
       "      <td>2 cars</td>\n",
       "      <td>11:29 PM</td>\n",
       "      <td>1 lane occupied</td>\n",
       "    </tr>\n",
       "    <tr>\n",
       "      <th>5</th>\n",
       "      <td>Vehicular accident</td>\n",
       "      <td>Quezon Ave. Roces EB</td>\n",
       "      <td>car and PUJ</td>\n",
       "      <td>9:05 PM</td>\n",
       "      <td>1 lane occupied</td>\n",
       "    </tr>\n",
       "    <tr>\n",
       "      <th>6</th>\n",
       "      <td>Vehicular accident</td>\n",
       "      <td>C5 Lanuza Intersection NB</td>\n",
       "      <td>2 cars</td>\n",
       "      <td>8:19 PM</td>\n",
       "      <td>1 lane occupied</td>\n",
       "    </tr>\n",
       "    <tr>\n",
       "      <th>7</th>\n",
       "      <td>Vehicular accident</td>\n",
       "      <td>Marcos Highway Ligaya EB</td>\n",
       "      <td>PUJ and bus</td>\n",
       "      <td>7:25 PM</td>\n",
       "      <td>1 lane occupied</td>\n",
       "    </tr>\n",
       "    <tr>\n",
       "      <th>8</th>\n",
       "      <td>Vehicular accident</td>\n",
       "      <td>C5 Lanuza SB</td>\n",
       "      <td>AUV and car</td>\n",
       "      <td>7:27 PM</td>\n",
       "      <td>2 lanes occupied</td>\n",
       "    </tr>\n",
       "    <tr>\n",
       "      <th>9</th>\n",
       "      <td>Self-accident</td>\n",
       "      <td>C5 Boni Serrano Tunnel SB</td>\n",
       "      <td>motorcycle</td>\n",
       "      <td>7:50 AM</td>\n",
       "      <td>1 lane occupied</td>\n",
       "    </tr>\n",
       "  </tbody>\n",
       "</table>\n",
       "</div>"
      ],
      "text/plain": [
       "                    0                           1              2         3  \\\n",
       "0  Vehicular accident             EDSA Buendia NB    bus and AUV   9:40 PM   \n",
       "1  Vehicular accident           EDSA after F/O SB    van and car   9:34 PM   \n",
       "2  Vehicular accident  C5 Katipunan CP. Garcia NB  AUV and truck   7:02 PM   \n",
       "3  Vehicular accident            EDSA Kalayaan NB         2 cars   6:35 PM   \n",
       "4  Vehicular accident         EDSA vv. Soliven SB         2 cars  11:29 PM   \n",
       "5  Vehicular accident        Quezon Ave. Roces EB    car and PUJ   9:05 PM   \n",
       "6  Vehicular accident   C5 Lanuza Intersection NB         2 cars   8:19 PM   \n",
       "7  Vehicular accident    Marcos Highway Ligaya EB    PUJ and bus   7:25 PM   \n",
       "8  Vehicular accident                C5 Lanuza SB    AUV and car   7:27 PM   \n",
       "9       Self-accident   C5 Boni Serrano Tunnel SB     motorcycle   7:50 AM   \n",
       "\n",
       "                  4  \n",
       "0   1 lane occupied  \n",
       "1   1 lane occupied  \n",
       "2   1 lane occupied  \n",
       "3   1 lane occupied  \n",
       "4   1 lane occupied  \n",
       "5   1 lane occupied  \n",
       "6   1 lane occupied  \n",
       "7   1 lane occupied  \n",
       "8  2 lanes occupied  \n",
       "9   1 lane occupied  "
      ]
     },
     "execution_count": 9,
     "metadata": {},
     "output_type": "execute_result"
    }
   ],
   "source": [
    "test.head(10)"
   ]
  },
  {
   "cell_type": "code",
   "execution_count": 10,
   "metadata": {},
   "outputs": [
    {
     "data": {
      "text/plain": [
       "(22269, 5)"
      ]
     },
     "execution_count": 10,
     "metadata": {},
     "output_type": "execute_result"
    }
   ],
   "source": [
    "test.shape"
   ]
  }
 ],
 "metadata": {
  "kernelspec": {
   "display_name": "Python 3",
   "language": "python",
   "name": "python3"
  },
  "language_info": {
   "codemirror_mode": {
    "name": "ipython",
    "version": 3
   },
   "file_extension": ".py",
   "mimetype": "text/x-python",
   "name": "python",
   "nbconvert_exporter": "python",
   "pygments_lexer": "ipython3",
   "version": "3.7.9"
  }
 },
 "nbformat": 4,
 "nbformat_minor": 4
}
