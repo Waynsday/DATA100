{
 "cells": [
  {
   "cell_type": "markdown",
   "metadata": {},
   "source": [
    "# Import all Libraries"
   ]
  },
  {
   "cell_type": "code",
   "execution_count": 7,
   "metadata": {},
   "outputs": [],
   "source": [
    "import pandas as pd\n",
    "import re"
   ]
  },
  {
   "cell_type": "code",
   "execution_count": 8,
   "metadata": {},
   "outputs": [],
   "source": [
    "MAIN_FILE = 'MMDA_Tweets.csv'\n",
    "\n",
    "mmda_df = pd.read_csv(MAIN_FILE,usecols=[1,2,3,4,5])\n"
   ]
  },
  {
   "cell_type": "code",
   "execution_count": 21,
   "metadata": {},
   "outputs": [
    {
     "data": {
      "text/plain": [
       "0     MMDA ALERT: Stalled Closed Van due to mechanic...\n",
       "1     MMDA ALERT: Vehicular accident at Ortigas POEA...\n",
       "2     MMDA ALERT: Vehicular accident at EDSA pioneer...\n",
       "3     [Admin 12] MMDA ALERT: Vehicular accident at E...\n",
       "4     MMDA ALERT: Vehicular accident at EDSA Ortigas...\n",
       "5     MMDA ALERT: Vehicular accident at Bali Oasis M...\n",
       "6     MMDA ALERT: Vehicle accident at Roxas Buendia ...\n",
       "7     MMDA ALERT: Stalled Closed Van due to Flat Tir...\n",
       "8     MMDA ALERT: Vehicular accident at Mindanao ave...\n",
       "9     MMDA ALERT: Stalled Taxi due to Mechanical Tro...\n",
       "10    MMDA ALERT: Stalled Bus due to Mechanical Trou...\n",
       "11    MMDA ALERT: Stalled dump Truck due to Mechanic...\n",
       "12    MMDA ALERT: Vehicular accident at C5 before Ka...\n",
       "13    MMDA ALERT: Ongoing DOTR Structural Integrity ...\n",
       "Name: tweet_content, dtype: object"
      ]
     },
     "execution_count": 21,
     "metadata": {},
     "output_type": "execute_result"
    }
   ],
   "source": [
    "mmda_df['tweet_content']"
   ]
  },
  {
   "cell_type": "code",
   "execution_count": 22,
   "metadata": {},
   "outputs": [
    {
     "name": "stdout",
     "output_type": "stream",
     "text": [
      "woops\n",
      "('Vehicular accident', 'Ortigas POEA  EB', 'taxi and car', '12:00 PM', '1 lane occupied')\n",
      "('Vehicular accident', 'EDSA pioneer NB', 'car', '12: 59 PM', '1 lane occupied')\n",
      "('Vehicular accident', 'EDSA Kalayaan Flyover NB', 'MC', '11:05 PM', '1 lane occupied')\n",
      "('Vehicular accident', 'EDSA Ortigas Flyover EB', 'SUV', '4:46 PM', '1 lane occupied')\n",
      "('Vehicular accident', 'Bali Oasis Marcos Highway WB', 'Trailer truck', '11:38 AM', '2 lanes occupied')\n",
      "('Vehicle accident', 'Roxas Buendia NB', 'MC', '9:30 AM', '1 lane occupied')\n",
      "woops\n",
      "('Vehicular accident', 'Mindanao ave WB', 'truck and car', '10:55 PM 1 lane occupied', 'MMDA on site')\n",
      "woops\n",
      "woops\n",
      "woops\n",
      "('Vehicular accident', 'C5 before Katipunan Flyover SB', 'a MC', '5:22 AM', '1 lane occupied')\n",
      "woops\n"
     ]
    }
   ],
   "source": [
    "template = 'MMDA ALERT: (.*?) at (.*?) involving (.*?) as of (.*?)\\. (.*?)\\.'\n",
    "\n",
    "for x in range(len(mmda_df)):\n",
    "    try:\n",
    "        line = mmda_df['tweet_content'][x]\n",
    "        matches = re.findall(template, line)[0]\n",
    "        print(matches)\n",
    "    except:\n",
    "        print(\"woops\")"
   ]
  },
  {
   "cell_type": "code",
   "execution_count": null,
   "metadata": {},
   "outputs": [],
   "source": []
  }
 ],
 "metadata": {
  "kernelspec": {
   "display_name": "Python 3",
   "language": "python",
   "name": "python3"
  },
  "language_info": {
   "codemirror_mode": {
    "name": "ipython",
    "version": 3
   },
   "file_extension": ".py",
   "mimetype": "text/x-python",
   "name": "python",
   "nbconvert_exporter": "python",
   "pygments_lexer": "ipython3",
   "version": "3.7.9"
  }
 },
 "nbformat": 4,
 "nbformat_minor": 4
}
